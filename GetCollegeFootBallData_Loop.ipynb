{
 "cells": [
  {
   "cell_type": "code",
   "execution_count": 11,
   "id": "4c9309b7",
   "metadata": {},
   "outputs": [],
   "source": [
    "import requests\n",
    "import json\n",
    "import pandas as pd\n",
    "\n",
    "years               = ['2019','2020','2021']\n",
    "responses           = list()\n",
    "def get_games(x):\n",
    "    for i in x:\n",
    "        #baseurl    = 'https://api.collegefootballdata.com/games?year='\n",
    "        #seasontype = 'regular'\n",
    "        token       = 'Bearer xxxxxxxxxxxxxxxxxxxxxxxxxxx'\n",
    "        headers     = {'Authorization': token, 'Accept':'application/json'}\n",
    "        #url         = f'{baseurl}{year}&seasonType={seasontype}'\n",
    "        req         = requests.get(url=f'https://api.collegefootballdata.com/games?year={i}&seasonType=regular', headers=headers)\n",
    "        data        = json.loads(req.text)\n",
    "        responses.append(data)\n",
    "                   \n",
    "# appending data to a list is important otherwise the last eliment's data in the loop will overwrite other data\n",
    "# check what have I done in the for loop\n",
    "get_games(years)\n",
    "\n",
    "\n",
    "\n",
    "\n",
    "gamesdata = []\n",
    "for items in responses:\n",
    "    for data in items: # at here just multiple dicts \n",
    "        gamesdata.append(data) # at here all the data in a list and multiple dicts\n",
    "\n",
    "df = pd.DataFrame(gamesdata)\n",
    "\n",
    "df.to_csv('testdata1.csv', index=False)"
   ]
  },
  {
   "cell_type": "code",
   "execution_count": null,
   "id": "068cef51",
   "metadata": {},
   "outputs": [],
   "source": []
  },
  {
   "cell_type": "code",
   "execution_count": null,
   "id": "7bbfdc6b",
   "metadata": {},
   "outputs": [],
   "source": []
  },
  {
   "cell_type": "code",
   "execution_count": null,
   "id": "e672f7bb",
   "metadata": {},
   "outputs": [],
   "source": []
  },
  {
   "cell_type": "code",
   "execution_count": null,
   "id": "d28e887b",
   "metadata": {},
   "outputs": [],
   "source": []
  },
  {
   "cell_type": "code",
   "execution_count": null,
   "id": "93a1747f",
   "metadata": {},
   "outputs": [],
   "source": []
  },
  {
   "cell_type": "code",
   "execution_count": null,
   "id": "bb826bb2",
   "metadata": {},
   "outputs": [],
   "source": []
  }
 ],
 "metadata": {
  "kernelspec": {
   "display_name": "Python 3 (ipykernel)",
   "language": "python",
   "name": "python3"
  },
  "language_info": {
   "codemirror_mode": {
    "name": "ipython",
    "version": 3
   },
   "file_extension": ".py",
   "mimetype": "text/x-python",
   "name": "python",
   "nbconvert_exporter": "python",
   "pygments_lexer": "ipython3",
   "version": "3.10.6"
  }
 },
 "nbformat": 4,
 "nbformat_minor": 5
}
