{
 "cells": [
  {
   "cell_type": "code",
   "execution_count": 11,
   "id": "6ef2b5a9",
   "metadata": {},
   "outputs": [],
   "source": [
    "import cfbd\n",
    "import pandas as pd\n",
    "import json\n",
    "import requests"
   ]
  },
  {
   "cell_type": "code",
   "execution_count": 2,
   "id": "23c6f29a",
   "metadata": {},
   "outputs": [],
   "source": [
    "config = cfbd.Configuration()\n",
    "config.api_key['Authorization']= 'AxWhvNiRUhFnlK9KKaiVuD3SseCaFyg6ibUkQ53npNDTmKUyH3qsBFi7RBUqBq2y'\n",
    "config.api_key_prefix['Authorization'] = 'Bearer'"
   ]
  },
  {
   "cell_type": "code",
   "execution_count": 3,
   "id": "bac2aa75",
   "metadata": {},
   "outputs": [],
   "source": [
    "api = cfbd.GamesApi(cfbd.ApiClient(config))"
   ]
  },
  {
   "cell_type": "code",
   "execution_count": 4,
   "id": "6c45901d",
   "metadata": {},
   "outputs": [],
   "source": [
    "games = api.get_games(year=2020)"
   ]
  },
  {
   "cell_type": "code",
   "execution_count": 5,
   "id": "add05f4f",
   "metadata": {},
   "outputs": [],
   "source": [
    "for items in games:\n",
    "    data = items.to_dict()"
   ]
  },
  {
   "cell_type": "code",
   "execution_count": 10,
   "id": "a6346815",
   "metadata": {},
   "outputs": [],
   "source": [
    "with open('sampledata.json', 'w') as file:\n",
    "    json.dump(data, file)"
   ]
  },
  {
   "cell_type": "code",
   "execution_count": 7,
   "id": "1ad32a07",
   "metadata": {},
   "outputs": [],
   "source": []
  },
  {
   "cell_type": "code",
   "execution_count": null,
   "id": "28c796fa",
   "metadata": {},
   "outputs": [],
   "source": []
  },
  {
   "cell_type": "code",
   "execution_count": null,
   "id": "ba542dc1",
   "metadata": {},
   "outputs": [],
   "source": [
    "\n"
   ]
  }
 ],
 "metadata": {
  "kernelspec": {
   "display_name": "Python 3 (ipykernel)",
   "language": "python",
   "name": "python3"
  },
  "language_info": {
   "codemirror_mode": {
    "name": "ipython",
    "version": 3
   },
   "file_extension": ".py",
   "mimetype": "text/x-python",
   "name": "python",
   "nbconvert_exporter": "python",
   "pygments_lexer": "ipython3",
   "version": "3.10.6"
  }
 },
 "nbformat": 4,
 "nbformat_minor": 5
}
